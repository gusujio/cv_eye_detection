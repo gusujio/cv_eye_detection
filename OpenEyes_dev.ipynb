{
 "cells": [
  {
   "cell_type": "code",
   "execution_count": 1,
   "id": "63e41b29",
   "metadata": {
    "colab": {
     "base_uri": "https://localhost:8080/"
    },
    "id": "63e41b29",
    "outputId": "9360d1ba-fd9f-4f9d-8c12-ec776bdebd51"
   },
   "outputs": [
    {
     "name": "stdout",
     "output_type": "stream",
     "text": [
      "Using matplotlib backend: MacOSX\n",
      "Populating the interactive namespace from numpy and matplotlib\n"
     ]
    },
    {
     "name": "stderr",
     "output_type": "stream",
     "text": [
      "/Users/ila/opt/anaconda3/lib/python3.8/site-packages/IPython/core/magics/pylab.py:159: UserWarning: pylab import has clobbered these variables: ['random']\n",
      "`%matplotlib` prevents importing * from pylab and numpy\n",
      "  warn(\"pylab import has clobbered these variables: %s\"  % clobbered +\n"
     ]
    }
   ],
   "source": [
    "import pandas as pd\n",
    "import numpy as np\n",
    "import matplotlib.pyplot as plt\n",
    "import random\n",
    "import zipfile\n",
    "import os\n",
    "import shutil \n",
    "from tqdm import tqdm\n",
    "import pickle\n",
    "\n",
    "\n",
    "import torch\n",
    "import torchvision\n",
    "from torchvision import transforms, models, datasets\n",
    "\n",
    "from sklearn.semi_supervised import LabelSpreading\n",
    "from sklearn.cluster import DBSCAN\n",
    "from sklearn.decomposition import PCA, TruncatedSVD\n",
    "from sklearn import manifold\n",
    "from sklearn.metrics import accuracy_score, roc_auc_score, roc_curve\n",
    "\n",
    "%matplotlib\n",
    "%pylab inline"
   ]
  },
  {
   "cell_type": "code",
   "execution_count": 2,
   "id": "f7bdb765",
   "metadata": {
    "id": "f7bdb765"
   },
   "outputs": [],
   "source": [
    "random.seed(0)\n",
    "np.random.seed(0)\n",
    "torch.manual_seed(0)\n",
    "torch.cuda.manual_seed(0)\n",
    "torch.backends.cudnn.deterministic = True"
   ]
  },
  {
   "cell_type": "markdown",
   "id": "4ac8ff80",
   "metadata": {
    "id": "4ac8ff80"
   },
   "source": [
    "## Знакомство с данными  \n"
   ]
  },
  {
   "cell_type": "code",
   "execution_count": 34,
   "id": "aTawMkfcbsiB",
   "metadata": {
    "id": "aTawMkfcbsiB"
   },
   "outputs": [],
   "source": [
    "!rm -rf train\n",
    "!rm -rf test\n",
    "!rm -rf val\n",
    "!rm -rf '../data/closed'\n",
    "!rm -rf '../data/open'\n",
    "!rm -rf '../data/EyesDataset'"
   ]
  },
  {
   "cell_type": "code",
   "execution_count": 7,
   "id": "2106985e",
   "metadata": {
    "id": "2106985e"
   },
   "outputs": [],
   "source": [
    "with zipfile.ZipFile('../data/closed.zip', 'r') as zip_obj:\n",
    "    zip_obj.extractall('data/')\n",
    "    \n",
    "with zipfile.ZipFile('../data/open.zip', 'r') as zip_obj:\n",
    "    zip_obj.extractall('data/')\n",
    "    \n",
    "with zipfile.ZipFile('../data/EyesDataset.zip', 'r') as zip_obj:\n",
    "    zip_obj.extractall('data/')"
   ]
  },
  {
   "cell_type": "code",
   "execution_count": 8,
   "id": "0d000e58",
   "metadata": {
    "colab": {
     "base_uri": "https://localhost:8080/"
    },
    "id": "0d000e58",
    "outputId": "373c97db-be82-443d-dd27-c8552319d93b"
   },
   "outputs": [
    {
     "name": "stderr",
     "output_type": "stream",
     "text": [
      "100%|██████████| 1887/1887 [00:00<00:00, 2396.03it/s]\n",
      "100%|██████████| 1996/1996 [00:00<00:00, 2405.44it/s]\n"
     ]
    }
   ],
   "source": [
    "data_root = ''\n",
    "train_dir = 'train'\n",
    "test_dir = 'test'\n",
    "val_dir = 'val'\n",
    "\n",
    "class_names = ['closed', 'open']\n",
    "files = []\n",
    "for dir_name in [train_dir, test_dir]:\n",
    "    for class_name in class_names:\n",
    "        os.makedirs(os.path.join(dir_name, class_name), exist_ok=True)\n",
    "        \n",
    "for class_name in class_names:\n",
    "    source_dir = os.path.join(data_root, 'data', class_name)\n",
    "    for i, file_name in enumerate(tqdm(os.listdir(source_dir))):\n",
    "        if i % 3 == 0:\n",
    "            dest_dir = os.path.join(test_dir, class_name) \n",
    "        else:\n",
    "            dest_dir = os.path.join(train_dir, class_name)\n",
    "        shutil.copy(os.path.join(source_dir, file_name), os.path.join(dest_dir, file_name))\n",
    "        \n",
    "yes_label = os.listdir('data/open') + os.listdir('data/closed')\n",
    "no_label  = set(os.listdir('data/EyesDataset')) - set(yes_label)\n",
    "os.makedirs(os.path.join(val_dir, 'train'), exist_ok=True)\n",
    "source_dir = os.path.join(data_root, 'data/EyesDataset')\n",
    "for file_name in no_label:\n",
    "    shutil.copy(os.path.join(source_dir, file_name), os.path.join(os.path.join(val_dir, 'train'), file_name))"
   ]
  },
  {
   "cell_type": "code",
   "execution_count": 9,
   "id": "37ZxuneLTB8I",
   "metadata": {
    "colab": {
     "base_uri": "https://localhost:8080/"
    },
    "id": "37ZxuneLTB8I",
    "outputId": "1af8b6a8-18bb-4200-f159-0beba7c2ff47"
   },
   "outputs": [
    {
     "name": "stdout",
     "output_type": "stream",
     "text": [
      "    1333   11990   78583\n",
      "    1261   11342   74335\n",
      "     669    6014   38738\n",
      "     632    5681   36592\n",
      "     120    1073    6776\n"
     ]
    }
   ],
   "source": [
    "! ls -la ./train/open/ | wc\n",
    "! ls -la ./train/closed/ | wc\n",
    "! ls -la ./test/open/ | wc\n",
    "! ls -la ./test/closed/ | wc\n",
    "! ls -la ./val/train/ | wc"
   ]
  },
  {
   "cell_type": "markdown",
   "id": "f81d1a0b",
   "metadata": {
    "id": "f81d1a0b"
   },
   "source": [
    "всего 4000 одноканальных фотографий, каждая из которых 24 на 24 размером, яркость пикселя уже отнормирована от 0 до 1 \n",
    "\n",
    "https://pytorch.org/vision/stable/auto_examples/plot_transforms.html#sphx-glr-auto-examples-plot-transforms-py"
   ]
  },
  {
   "cell_type": "code",
   "execution_count": 10,
   "id": "UAAiDa1AvsNy",
   "metadata": {
    "id": "UAAiDa1AvsNy"
   },
   "outputs": [],
   "source": [
    "class ImageFolderWithPaths(torchvision.datasets.ImageFolder):\n",
    "    def __getitem__(self, index):\n",
    "        original_tuple = super(ImageFolderWithPaths, self).__getitem__(index)\n",
    "        path = self.imgs[index][0]\n",
    "        tuple_with_path = (original_tuple + (path,))\n",
    "        return tuple_with_path"
   ]
  },
  {
   "cell_type": "code",
   "execution_count": 11,
   "id": "-E15KVwTuHCj",
   "metadata": {
    "id": "-E15KVwTuHCj"
   },
   "outputs": [],
   "source": [
    "def augmentation(train_dir = 'train'):\n",
    "    mas = [transforms.RandomVerticalFlip(p=1), transforms.RandomHorizontalFlip(p=1),\n",
    "    transforms.ColorJitter(brightness=.5, hue=.3), transforms.RandomRotation(degrees=(0, 180)),\n",
    "    transforms.RandomAffine(degrees=(30, 70)), transforms.RandomEqualize(p=1)]\n",
    "    ten = transforms.ToTensor()\n",
    "    com_mas = []\n",
    "    for i in range(len(mas)):\n",
    "        com_mas.append(transforms.Compose([mas[i], ten]))\n",
    "        for j in range(i+1, len(mas)):\n",
    "            com_mas.append(transforms.Compose([mas[i], mas[j], ten]))\n",
    "            for l in range(j+1, len(mas)):\n",
    "                if l > j+2:\n",
    "                    break\n",
    "                com_mas.append(transforms.Compose([mas[i], mas[j], mas[l], ten]))\n",
    "    dataset_mas = []\n",
    "    for com in com_mas:\n",
    "        dataset_mas.append(torchvision.datasets.ImageFolder(train_dir, com))\n",
    "        \n",
    "    return torch.utils.data.ConcatDataset(dataset_mas)"
   ]
  },
  {
   "cell_type": "code",
   "execution_count": 12,
   "id": "f3jiOuTgwUne",
   "metadata": {
    "id": "f3jiOuTgwUne"
   },
   "outputs": [],
   "source": [
    "def val_load():\n",
    "    val_transforms = transforms.Compose([\n",
    "    transforms.ToTensor()])\n",
    "    val_dataset = ImageFolderWithPaths(val_dir, val_transforms) \n",
    "    val_dataloader = torch.utils.data.DataLoader(\n",
    "    val_dataset, batch_size=8, shuffle=False)\n",
    "    return val_dataset, val_dataloader\n",
    "\n",
    "\n",
    "def train_load():\n",
    "    train_dataset = augmentation()\n",
    "    batch_size = 18\n",
    "    train_dataloader = torch.utils.data.DataLoader(\n",
    "    train_dataset, batch_size=batch_size, shuffle=True, num_workers=batch_size)\n",
    "    return train_dataset, train_dataloader"
   ]
  },
  {
   "cell_type": "code",
   "execution_count": 13,
   "id": "85fbfd43",
   "metadata": {
    "colab": {
     "base_uri": "https://localhost:8080/"
    },
    "id": "85fbfd43",
    "outputId": "83b6ea1d-3ab7-4db1-98f3-270599db21d2"
   },
   "outputs": [
    {
     "name": "stderr",
     "output_type": "stream",
     "text": [
      "/Users/ila/opt/anaconda3/lib/python3.8/site-packages/torch/utils/data/dataloader.py:487: UserWarning: This DataLoader will create 18 worker processes in total. Our suggested max number of worker in current system is 8 (`cpuset` is not taken into account), which is smaller than what this DataLoader is going to create. Please be aware that excessive worker creation might get DataLoader running slow or even freeze, lower the worker number to avoid potential slowness/freeze if necessary.\n",
      "  warnings.warn(_create_warning_msg(\n"
     ]
    }
   ],
   "source": [
    "test_transforms = transforms.Compose([\n",
    "    transforms.ToTensor()])\n",
    "\n",
    "test_dataset = torchvision.datasets.ImageFolder(test_dir, test_transforms)\n",
    "test_dataloader = torch.utils.data.DataLoader(\n",
    "    test_dataset, batch_size=8, shuffle=False, num_workers=8)\n",
    "\n",
    "\n",
    "val_dataset, val_dataloader = val_load()\n",
    "train_dataset, train_dataloader = train_load()"
   ]
  },
  {
   "cell_type": "code",
   "execution_count": 14,
   "id": "9fa4cb7c",
   "metadata": {
    "colab": {
     "base_uri": "https://localhost:8080/"
    },
    "id": "9fa4cb7c",
    "outputId": "19ea9793-d4bd-4b5c-d6ed-e5fe0fad339f"
   },
   "outputs": [
    {
     "name": "stdout",
     "output_type": "stream",
     "text": [
      "95756\n",
      "5320\n",
      "torch.Size([3, 24, 24])\n"
     ]
    }
   ],
   "source": [
    "print(len(train_dataset)) ## кол-во всех фотографий\n",
    "print(len(train_dataloader)) ## кол-во батчей\n",
    "print(train_dataset[0][0].shape) ## размерность изображения"
   ]
  },
  {
   "cell_type": "code",
   "execution_count": 15,
   "id": "14f73ff4",
   "metadata": {
    "colab": {
     "base_uri": "https://localhost:8080/",
     "height": 1000
    },
    "id": "14f73ff4",
    "outputId": "60b2d213-e851-464c-a3d7-a6ba3420c059"
   },
   "outputs": [
    {
     "data": {
      "image/png": "[encoded data removed]",
      "text/plain": [
       "<Figure size 432x288 with 1 Axes>"
      ]
     },
     "metadata": {
      "needs_background": "light"
     },
     "output_type": "display_data"
    },
    {
     "data": {
      "image/png": "[encoded data removed]",
      "text/plain": [
       "<Figure size 432x288 with 1 Axes>"
      ]
     },
     "metadata": {
      "needs_background": "light"
     },
     "output_type": "display_data"
    },
    {
     "data": {
      "image/png": "[encoded data removed]",
      "text/plain": [
       "<Figure size 432x288 with 1 Axes>"
      ]
     },
     "metadata": {
      "needs_background": "light"
     },
     "output_type": "display_data"
    },
    {
     "data": {
      "image/png": "[encoded data removed]",
      "text/plain": [
       "<Figure size 432x288 with 1 Axes>"
      ]
     },
     "metadata": {
      "needs_background": "light"
     },
     "output_type": "display_data"
    },
    {
     "data": {
      "image/png": "[encoded data removed]",
      "text/plain": [
       "<Figure size 432x288 with 1 Axes>"
      ]
     },
     "metadata": {
      "needs_background": "light"
     },
     "output_type": "display_data"
    },
    {
     "data": {
      "image/png": "[encoded data removed]",
      "text/plain": [
       "<Figure size 432x288 with 1 Axes>"
      ]
     },
     "metadata": {
      "needs_background": "light"
     },
     "output_type": "display_data"
    },
    {
     "data": {
      "image/png": "[encoded data removed]",
      "text/plain": [
       "<Figure size 432x288 with 1 Axes>"
      ]
     },
     "metadata": {
      "needs_background": "light"
     },
     "output_type": "display_data"
    },
    {
     "data": {
      "image/png": "[encoded data removed]",
      "text/plain": [
       "<Figure size 432x288 with 1 Axes>"
      ]
     },
     "metadata": {
      "needs_background": "light"
     },
     "output_type": "display_data"
    },
    {
     "data": {
      "image/png": "[encoded data removed]",
      "text/plain": [
       "<Figure size 432x288 with 1 Axes>"
      ]
     },
     "metadata": {
      "needs_background": "light"
     },
     "output_type": "display_data"
    },
    {
     "data": {
      "image/png": "[encoded data removed]",
      "text/plain": [
       "<Figure size 432x288 with 1 Axes>"
      ]
     },
     "metadata": {
      "needs_background": "light"
     },
     "output_type": "display_data"
    },
    {
     "data": {
      "image/png": "[encoded data removed]",
      "text/plain": [
       "<Figure size 432x288 with 1 Axes>"
      ]
     },
     "metadata": {
      "needs_background": "light"
     },
     "output_type": "display_data"
    },
    {
     "data": {
      "image/png": "[encoded data removed]",
      "text/plain": [
       "<Figure size 432x288 with 1 Axes>"
      ]
     },
     "metadata": {
      "needs_background": "light"
     },
     "output_type": "display_data"
    },
    {
     "data": {
      "image/png": "[encoded data removed]",
      "text/plain": [
       "<Figure size 432x288 with 1 Axes>"
      ]
     },
     "metadata": {
      "needs_background": "light"
     },
     "output_type": "display_data"
    },
    {
     "data": {
      "image/png": "[encoded data removed]",
      "text/plain": [
       "<Figure size 432x288 with 1 Axes>"
      ]
     },
     "metadata": {
      "needs_background": "light"
     },
     "output_type": "display_data"
    },
    {
     "data": {
      "image/png": "[encoded data removed]",
      "text/plain": [
       "<Figure size 432x288 with 1 Axes>"
      ]
     },
     "metadata": {
      "needs_background": "light"
     },
     "output_type": "display_data"
    },
    {
     "data": {
      "image/png": "[encoded data removed]",
      "text/plain": [
       "<Figure size 432x288 with 1 Axes>"
      ]
     },
     "metadata": {
      "needs_background": "light"
     },
     "output_type": "display_data"
    },
    {
     "data": {
      "image/png": "[encoded data removed]",
      "text/plain": [
       "<Figure size 432x288 with 1 Axes>"
      ]
     },
     "metadata": {
      "needs_background": "light"
     },
     "output_type": "display_data"
    },
    {
     "data": {
      "image/png": "[encoded data removed]",
      "text/plain": [
       "<Figure size 432x288 with 1 Axes>"
      ]
     },
     "metadata": {
      "needs_background": "light"
     },
     "output_type": "display_data"
    }
   ],
   "source": [
    "def show_input(input_tensor, title = None):\n",
    "    image = input_tensor.permute(1, 2, 0).numpy()\n",
    "    plt.imshow(image, cmap='gray')\n",
    "    if title != None:\n",
    "        plt.title(title)\n",
    "    plt.show()\n",
    "    plt.pause(0.001)\n",
    "\n",
    "X_batch, y_batch = next(iter(train_dataloader))\n",
    "\n",
    "for x_item, y_item in zip(X_batch, y_batch):\n",
    "    show_input(x_item)"
   ]
  },
  {
   "cell_type": "markdown",
   "id": "40407383",
   "metadata": {
    "id": "40407383"
   },
   "source": [
    "## Обучим модель на части размеченных данных "
   ]
  },
  {
   "cell_type": "code",
   "execution_count": 16,
   "id": "7b9255c2",
   "metadata": {
    "id": "7b9255c2"
   },
   "outputs": [],
   "source": [
    "class OpenEyesClassificator:\n",
    "    def __init__(self, name_model = None, early_stopping = 0.05, num_epochs = 100):\n",
    "        if name_model == None:\n",
    "            self.model = models.resnet18(pretrained=True)\n",
    "        for param in self.model.parameters():\n",
    "            param.requires_grad = True\n",
    "        self.model.fc = torch.nn.Linear(self.model.fc.in_features, 2)\n",
    "        self.device = torch.device(\"cuda:0\" if torch.cuda.is_available() else \"cpu\")\n",
    "        self.model = self.model.to(self.device)\n",
    "        self.loss = torch.nn.CrossEntropyLoss() # функция активации \n",
    "        self.optimizer = torch.optim.Adam(self.model.parameters(), lr=1.0e-3)\n",
    "        self.scheduler = torch.optim.lr_scheduler.StepLR(self.optimizer, step_size=7, gamma=0.1)\n",
    "        self.num_epochs = num_epochs\n",
    "        self.early_stopping = early_stopping\n",
    "    \n",
    "    def fit(self, train_dataloader, val_dataloader):\n",
    "        for epoch in range(self.num_epochs):\n",
    "            print('Epoch {}/{}:'.format(epoch, self.num_epochs), flush=True)\n",
    "        \n",
    "            # Each epoch has a training and validation phase\n",
    "            \"\"\"Для каждой эпохи есть фаза обучения и валидации\"\"\"\n",
    "            for phase in ['train', 'val']:\n",
    "                if phase == 'train':\n",
    "                    dataloader = train_dataloader\n",
    "                    self.scheduler.step()\n",
    "                    \"\"\"нужно для того, что бы зафиксировать слои нормализации и просто на всякий случай\"\"\"\n",
    "                    self.model.train() \n",
    "                else:\n",
    "                    dataloader = val_dataloader\n",
    "                    \"\"\"что бы во время валидации не изменялась нейронка\"\"\"\n",
    "                    self.model.eval() \n",
    "    \n",
    "\n",
    "    \n",
    "                \"\"\"Iterate over data.\"\"\"\n",
    "                correct = 0\n",
    "                total = 0\n",
    "                all_loss = 0\n",
    "                for inputs, labels in dataloader:\n",
    "                    inputs = inputs.to(self.device)\n",
    "                    labels = labels.to(self.device)\n",
    "                    \"\"\"обнуляем градиент, что бы он не накапливался каждый раз\"\"\"\n",
    "                    self.optimizer.zero_grad()\n",
    "    \n",
    "                    \"\"\"Активируем все градиенты(веса), которые не заморожены\"\"\"\n",
    "                    with torch.set_grad_enabled(phase == 'train'):\n",
    "                        \"\"\"Считаем предикшн модели, это не вероятности, а просто аквации нейронов\"\"\"\n",
    "                        preds = self.model(inputs) \n",
    "                        loss_value = self.loss(preds, labels)\n",
    "                        \"\"\"берем нейрон с максимальной активацией\"\"\"\n",
    "                        preds_class = preds.argmax(dim=1)\n",
    "    \n",
    "                        \"\"\"backward + optimize only if in training phase\"\"\"\n",
    "                        if phase == 'train':\n",
    "                            loss_value.backward()\n",
    "                            self.optimizer.step()\n",
    "\n",
    "                        correct += (preds_class == labels).sum().item()\n",
    "                        total += labels.size(0)\n",
    "                        all_loss += loss_value.item()\n",
    "\n",
    "\n",
    "                print(f\"{phase} accuracy of the network {100 * correct / total}, Loss {all_loss}\")\n",
    "    \n",
    "    \n",
    "    def predict(self, test):\n",
    "        self.model.eval() ## фиксируем модельку \n",
    "\n",
    "        test_predictions = []\n",
    "        for ep in tqdm(test): ### labels - всегда будет None\n",
    "            inputs, labels = ep[0], ep[1]\n",
    "            inputs = inputs.to(self.device)\n",
    "            labels = labels.to(self.device)\n",
    "            with torch.set_grad_enabled(False):\n",
    "                preds = self.model(inputs)\n",
    "            test_predictions.append(\n",
    "                torch.nn.functional.softmax(preds, dim=1)[:,1].data.cpu().numpy())\n",
    "            \n",
    "        test_predictions = np.concatenate(test_predictions)\n",
    "        return test_predictions\n",
    "            \n",
    "            \n",
    "    "
   ]
  },
  {
   "cell_type": "code",
   "execution_count": 16,
   "id": "1f167c7e",
   "metadata": {
    "colab": {
     "base_uri": "https://localhost:8080/",
     "height": 992
    },
    "id": "1f167c7e",
    "outputId": "562b7eb7-bab7-4603-bd9c-56ee642edb06"
   },
   "outputs": [
    {
     "name": "stdout",
     "output_type": "stream",
     "text": [
      "Epoch 0/10000:\n"
     ]
    },
    {
     "name": "stderr",
     "output_type": "stream",
     "text": [
      "/usr/local/lib/python3.7/dist-packages/torch/optim/lr_scheduler.py:134: UserWarning: Detected call of `lr_scheduler.step()` before `optimizer.step()`. In PyTorch 1.1.0 and later, you should call them in the opposite order: `optimizer.step()` before `lr_scheduler.step()`.  Failure to do this will result in PyTorch skipping the first value of the learning rate schedule. See more details at https://pytorch.org/docs/stable/optim.html#how-to-adjust-learning-rate\n",
      "  \"https://pytorch.org/docs/stable/optim.html#how-to-adjust-learning-rate\", UserWarning)\n",
      "/usr/local/lib/python3.7/dist-packages/torch/utils/data/dataloader.py:481: UserWarning: This DataLoader will create 18 worker processes in total. Our suggested max number of worker in current system is 2, which is smaller than what this DataLoader is going to create. Please be aware that excessive worker creation might get DataLoader running slow or even freeze, lower the worker number to avoid potential slowness/freeze if necessary.\n",
      "  cpuset_checked))\n"
     ]
    },
    {
     "name": "stdout",
     "output_type": "stream",
     "text": [
      "train accuracy of the network 90.26188979677352, Loss 976.3588618505746\n"
     ]
    },
    {
     "name": "stderr",
     "output_type": "stream",
     "text": [
      "/usr/local/lib/python3.7/dist-packages/torch/utils/data/dataloader.py:481: UserWarning: This DataLoader will create 8 worker processes in total. Our suggested max number of worker in current system is 2, which is smaller than what this DataLoader is going to create. Please be aware that excessive worker creation might get DataLoader running slow or even freeze, lower the worker number to avoid potential slowness/freeze if necessary.\n",
      "  cpuset_checked))\n"
     ]
    },
    {
     "name": "stdout",
     "output_type": "stream",
     "text": [
      "val accuracy of the network 96.18163054695563, Loss 12.708200655935798\n",
      "Epoch 1/10000:\n",
      "train accuracy of the network 93.95069488092744, Loss 634.8681481992826\n",
      "val accuracy of the network 96.90402476780186, Loss 12.688608233722334\n",
      "Epoch 2/10000:\n",
      "train accuracy of the network 94.58202388434947, Loss 565.7933079570066\n",
      "val accuracy of the network 94.42724458204334, Loss 19.72684551216662\n",
      "Epoch 3/10000:\n",
      "train accuracy of the network 95.40051679586563, Loss 475.85015113605186\n",
      "val accuracy of the network 96.59442724458205, Loss 10.67254848848097\n",
      "Epoch 4/10000:\n",
      "train accuracy of the network 95.67008869334451, Loss 451.6682079434395\n",
      "val accuracy of the network 96.28482972136223, Loss 11.110945898646605\n",
      "Epoch 5/10000:\n",
      "train accuracy of the network 96.20364550597108, Loss 390.61218595923856\n",
      "val accuracy of the network 96.28482972136223, Loss 10.498434493143577\n",
      "Epoch 6/10000:\n",
      "train accuracy of the network 97.39227599692715, Loss 271.9635116252466\n",
      "val accuracy of the network 96.69762641898865, Loss 11.02488671176252\n",
      "Epoch 7/10000:\n",
      "train accuracy of the network 97.74285913820798, Loss 239.4968253635161\n",
      "val accuracy of the network 97.31682146542828, Loss 10.928461146682821\n",
      "Epoch 8/10000:\n",
      "train accuracy of the network 97.90627837139465, Loss 223.73186611900746\n",
      "val accuracy of the network 96.90402476780186, Loss 10.182836249881802\n",
      "Epoch 9/10000:\n",
      "train accuracy of the network 98.05153991200503, Loss 208.6612631151802\n",
      "val accuracy of the network 97.00722394220847, Loss 12.498128501648125\n",
      "Epoch 10/10000:\n"
     ]
    },
    {
     "ename": "KeyboardInterrupt",
     "evalue": "ignored",
     "output_type": "error",
     "traceback": [
      "\u001b[0;31m---------------------------------------------------------------------------\u001b[0m",
      "\u001b[0;31mKeyboardInterrupt\u001b[0m                         Traceback (most recent call last)",
      "\u001b[0;32m<ipython-input-16-52055b374507>\u001b[0m in \u001b[0;36m<module>\u001b[0;34m()\u001b[0m\n\u001b[1;32m      1\u001b[0m \u001b[0mopeneyes\u001b[0m \u001b[0;34m=\u001b[0m \u001b[0mOpenEyesClassificator\u001b[0m\u001b[0;34m(\u001b[0m\u001b[0mnum_epochs\u001b[0m \u001b[0;34m=\u001b[0m \u001b[0;36m10000\u001b[0m\u001b[0;34m)\u001b[0m\u001b[0;34m\u001b[0m\u001b[0;34m\u001b[0m\u001b[0m\n\u001b[0;32m----> 2\u001b[0;31m \u001b[0mopeneyes\u001b[0m\u001b[0;34m.\u001b[0m\u001b[0mfit\u001b[0m\u001b[0;34m(\u001b[0m\u001b[0mtrain_dataloader\u001b[0m\u001b[0;34m,\u001b[0m \u001b[0mtest_dataloader\u001b[0m\u001b[0;34m)\u001b[0m\u001b[0;34m\u001b[0m\u001b[0;34m\u001b[0m\u001b[0m\n\u001b[0m",
      "\u001b[0;32m<ipython-input-15-5948ea4a7be6>\u001b[0m in \u001b[0;36mfit\u001b[0;34m(self, train_dataloader, val_dataloader)\u001b[0m\n\u001b[1;32m     56\u001b[0m                             \u001b[0mself\u001b[0m\u001b[0;34m.\u001b[0m\u001b[0moptimizer\u001b[0m\u001b[0;34m.\u001b[0m\u001b[0mstep\u001b[0m\u001b[0;34m(\u001b[0m\u001b[0;34m)\u001b[0m\u001b[0;34m\u001b[0m\u001b[0;34m\u001b[0m\u001b[0m\n\u001b[1;32m     57\u001b[0m \u001b[0;34m\u001b[0m\u001b[0m\n\u001b[0;32m---> 58\u001b[0;31m                         \u001b[0mcorrect\u001b[0m \u001b[0;34m+=\u001b[0m \u001b[0;34m(\u001b[0m\u001b[0mpreds_class\u001b[0m \u001b[0;34m==\u001b[0m \u001b[0mlabels\u001b[0m\u001b[0;34m)\u001b[0m\u001b[0;34m.\u001b[0m\u001b[0msum\u001b[0m\u001b[0;34m(\u001b[0m\u001b[0;34m)\u001b[0m\u001b[0;34m.\u001b[0m\u001b[0mitem\u001b[0m\u001b[0;34m(\u001b[0m\u001b[0;34m)\u001b[0m\u001b[0;34m\u001b[0m\u001b[0;34m\u001b[0m\u001b[0m\n\u001b[0m\u001b[1;32m     59\u001b[0m                         \u001b[0mtotal\u001b[0m \u001b[0;34m+=\u001b[0m \u001b[0mlabels\u001b[0m\u001b[0;34m.\u001b[0m\u001b[0msize\u001b[0m\u001b[0;34m(\u001b[0m\u001b[0;36m0\u001b[0m\u001b[0;34m)\u001b[0m\u001b[0;34m\u001b[0m\u001b[0;34m\u001b[0m\u001b[0m\n\u001b[1;32m     60\u001b[0m                         \u001b[0mall_loss\u001b[0m \u001b[0;34m+=\u001b[0m \u001b[0mloss_value\u001b[0m\u001b[0;34m.\u001b[0m\u001b[0mitem\u001b[0m\u001b[0;34m(\u001b[0m\u001b[0;34m)\u001b[0m\u001b[0;34m\u001b[0m\u001b[0;34m\u001b[0m\u001b[0m\n",
      "\u001b[0;31mKeyboardInterrupt\u001b[0m: "
     ]
    }
   ],
   "source": [
    "openeyes = OpenEyesClassificator(num_epochs = 10000)\n",
    "openeyes.fit(train_dataloader, test_dataloader)"
   ]
  },
  {
   "cell_type": "code",
   "execution_count": 18,
   "id": "o-QD4zaanLbH",
   "metadata": {
    "id": "o-QD4zaanLbH"
   },
   "outputs": [],
   "source": [
    "# with open('model.pickle', 'wb') as f:\n",
    "#     pickle.dump(openeyes, f)\n",
    "\n",
    "# with zipfile.ZipFile('model.pickle.zip', 'r') as zip_obj:\n",
    "#     zip_obj.extractall('./')\n",
    "\n",
    "\n",
    "# with open('model (1).pickle', 'rb') as f:\n",
    "#     openeyes = pickle.load(f)"
   ]
  },
  {
   "cell_type": "markdown",
   "id": "hORkbslouezQ",
   "metadata": {
    "id": "hORkbslouezQ"
   },
   "source": [
    "## Поиск выбросов "
   ]
  },
  {
   "cell_type": "code",
   "execution_count": 17,
   "id": "afFJWsYvxuPT",
   "metadata": {
    "id": "afFJWsYvxuPT"
   },
   "outputs": [],
   "source": [
    "def plot_anomaly(data, pred, anomal = -1, count_photo = 10):\n",
    "    anamal_index = [en for en, pr in enumerate(pred) if pr == anomal]\n",
    "    for i in anamal_index[:count_photo]:\n",
    "        photo = val_dataset[i][0][0]\n",
    "        plt.imshow(photo, cmap='gray')\n",
    "        plt.show()\n",
    "    return anamal_index"
   ]
  },
  {
   "cell_type": "code",
   "execution_count": 18,
   "id": "wQ8oUjPlueHO",
   "metadata": {
    "id": "wQ8oUjPlueHO"
   },
   "outputs": [],
   "source": [
    "val_data = [[i[0][0], -1] for i in val_dataset]\n",
    "train_data = [[i[0][0], i[1]] for i in train_dataset]\n",
    "data_cluster = train_data + val_data\n",
    "np.random.shuffle(data_cluster)\n",
    "\n",
    "train_data = np.array([np.concatenate(list(i[0])) for i in data_cluster])\n",
    "train_label = np.array([i[1] for i in data_cluster])\n",
    "\n",
    "test_data = np.array([np.concatenate(list(i[0][0])) for i in test_dataset])\n",
    "test_label = np.array([i[1] for i in test_dataset])\n",
    "\n",
    "val_set = [np.concatenate(list(i[0])) for i in val_data]\n"
   ]
  },
  {
   "cell_type": "code",
   "execution_count": 19,
   "id": "q5Oc6R5Wv1wE",
   "metadata": {
    "id": "q5Oc6R5Wv1wE"
   },
   "outputs": [],
   "source": [
    "pca = PCA(n_components = 40, random_state=6)\n",
    "train_data_pca = pca.fit_transform(train_data)\n",
    "test_data_pca = pca.transform(test_data)\n",
    "val_data_pca = pca.transform(val_set)"
   ]
  },
  {
   "cell_type": "code",
   "execution_count": 20,
   "id": "tbt6r6WBvsaY",
   "metadata": {
    "colab": {
     "base_uri": "https://localhost:8080/"
    },
    "id": "tbt6r6WBvsaY",
    "outputId": "19e62a65-8d6c-462a-c84c-29ce2437ff55"
   },
   "outputs": [
    {
     "data": {
      "text/plain": [
       " 0    114\n",
       "-1      3\n",
       "Name: 0, dtype: int64"
      ]
     },
     "execution_count": 20,
     "metadata": {},
     "output_type": "execute_result"
    }
   ],
   "source": [
    "scan = DBSCAN(min_samples = 3, eps = 4)\n",
    "pred = scan.fit_predict(val_data_pca)\n",
    "pd.DataFrame(pred)[0].value_counts()"
   ]
  },
  {
   "cell_type": "code",
   "execution_count": 21,
   "id": "nm5BkvgBxkIK",
   "metadata": {
    "colab": {
     "base_uri": "https://localhost:8080/",
     "height": 1000
    },
    "id": "nm5BkvgBxkIK",
    "outputId": "ede0b21d-612e-4600-b040-04eded47237d"
   },
   "outputs": [
    {
     "data": {
      "image/png": "[encoded data removed]",
      "text/plain": [
       "<Figure size 432x288 with 1 Axes>"
      ]
     },
     "metadata": {
      "needs_background": "light"
     },
     "output_type": "display_data"
    },
    {
     "data": {
      "image/png": "[encoded data removed]",
      "text/plain": [
       "<Figure size 432x288 with 1 Axes>"
      ]
     },
     "metadata": {
      "needs_background": "light"
     },
     "output_type": "display_data"
    },
    {
     "data": {
      "image/png": "[encoded data removed]",
      "text/plain": [
       "<Figure size 432x288 with 1 Axes>"
      ]
     },
     "metadata": {
      "needs_background": "light"
     },
     "output_type": "display_data"
    }
   ],
   "source": [
    "anomaly_dbscan =  plot_anomaly(val_dataset, pred)"
   ]
  },
  {
   "cell_type": "markdown",
   "id": "I0RudNI3zDjI",
   "metadata": {
    "id": "I0RudNI3zDjI"
   },
   "source": [
    "## поищем выбросы доп"
   ]
  },
  {
   "cell_type": "code",
   "execution_count": 32,
   "id": "E9JEBI3JwMes",
   "metadata": {
    "colab": {
     "base_uri": "https://localhost:8080/",
     "height": 283
    },
    "id": "E9JEBI3JwMes",
    "outputId": "3dded218-d23d-4281-e0ab-fcf048743ccd"
   },
   "outputs": [
    {
     "data": {
      "text/plain": [
       "<AxesSubplot:>"
      ]
     },
     "execution_count": 32,
     "metadata": {},
     "output_type": "execute_result"
    },
    {
     "data": {
      "image/png": "[encoded data removed]",
      "text/plain": [
       "<Figure size 432x288 with 1 Axes>"
      ]
     },
     "metadata": {
      "needs_background": "light"
     },
     "output_type": "display_data"
    }
   ],
   "source": [
    "std_mas = [torch.mean(val_dataset[i][0][0]) for i in range(len(val_dataset))]\n",
    "data = pd.DataFrame(std_mas)\n",
    "data[0].hist(bins=15)"
   ]
  },
  {
   "cell_type": "code",
   "execution_count": 33,
   "id": "8aHYmRT1zC2a",
   "metadata": {
    "colab": {
     "base_uri": "https://localhost:8080/",
     "height": 1000
    },
    "id": "8aHYmRT1zC2a",
    "outputId": "c1974117-196c-4f68-f179-4bab0d8ee281"
   },
   "outputs": [
    {
     "name": "stdout",
     "output_type": "stream",
     "text": [
      "-0.10688740760087967 0.9322397634387016\n"
     ]
    }
   ],
   "source": [
    "q75,q25 = np.percentile(data.loc[:,0],[75,25])\n",
    "intr_qr = q75-q25\n",
    "treash_max = q75+(1.5*intr_qr)\n",
    "treash_min = q25-(1.5*intr_qr)\n",
    "print(treash_min, treash_max)\n",
    "boolmas = [True if i > treash_max or i < treash_min  else False for en, i in enumerate(std_mas)]\n",
    "# boolmas = [True if i > 0.9 else False for en, i in enumerate(std_mas)]\n",
    "dop_anamal = plot_anomaly(val_dataset, boolmas, True)"
   ]
  },
  {
   "cell_type": "code",
   "execution_count": 30,
   "id": "90e56ca2",
   "metadata": {},
   "outputs": [
    {
     "data": {
      "text/plain": [
       "0"
      ]
     },
     "execution_count": 30,
     "metadata": {},
     "output_type": "execute_result"
    }
   ],
   "source": [
    "sum(boolmas)"
   ]
  },
  {
   "cell_type": "code",
   "execution_count": 24,
   "id": "xhcqyLrN3IxH",
   "metadata": {
    "id": "xhcqyLrN3IxH"
   },
   "outputs": [],
   "source": [
    "# anomal_list = anomaly_dbscan + dop_anamal[:2] + dop_anamal[-2:]\n",
    "# val_dataset = [i for en, i in enumerate(val_dataset) if en not in anomal_list]\n",
    "# val_dataloader = torch.utils.data.DataLoader(\n",
    "# val_dataset, batch_size=8, shuffle=False)"
   ]
  },
  {
   "cell_type": "markdown",
   "id": "f2132a90",
   "metadata": {
    "id": "f2132a90"
   },
   "source": [
    "## полуконтролируемая кластеризация"
   ]
  },
  {
   "cell_type": "code",
   "execution_count": 22,
   "id": "JDeloXS537lo",
   "metadata": {
    "id": "JDeloXS537lo"
   },
   "outputs": [],
   "source": [
    "def best_threshold(y_true, y_pred, step = 0.000000000007, start = 0.000000000002, count = 10):\n",
    "    \"\"\"какой accuracy будет на test, \n",
    "    если я оставлю значения в которых модель уверенна выше определенного порога\"\"\"\n",
    "    print(\"качесвто на test\", \n",
    "    accuracy_score(y_true, [1 if i >= 0.5 else 0 for i in y_pred]))\n",
    "    for threshold in np.arange(start, step * count, step):\n",
    "        bol_mas = ((y_pred > 1 - threshold) | (y_pred < threshold))\n",
    "        true = y_true[bol_mas]\n",
    "        pred = y_pred[bol_mas]\n",
    "        pred_r =  [1 if i >= 0.5 else 0 for i in pred]\n",
    "        accuracy = round(accuracy_score(true, pred_r), 5) if len(true)> 0 else 0\n",
    "        print(f\"порог: {threshold},   кол-во элементов из test: {len(true)},\\\n",
    " accuracy: {accuracy}\")\n",
    "    \n",
    "def map_val_set(model, val_dataset, val_dataloader = None):\n",
    "    # threshold = 0.0002\n",
    "    threshold = float(input('выберете порог '))\n",
    "    if val_dataloader == None:\n",
    "        y_pred = model.predict_proba(val_dataset)[:, 0]\n",
    "    else:\n",
    "        y_pred = model.predict(val_dataloader)\n",
    "    if len(y_pred) != len(val_dataset):\n",
    "        raise '2'\n",
    "    bol_mas = [(y_pred > 1 - threshold) | (y_pred < threshold)][0]\n",
    "    label = [1 if i >= 0.5 else 0 for i in y_pred]\n",
    "    return bol_mas, label\n",
    "\n",
    "def load_new_val(bool_mas, label, train_dataset, val_dataset):\n",
    "    new_open = []\n",
    "    new_closed = []\n",
    "    for val, bools, lab in zip(val_dataset, bool_mas, label):\n",
    "        if bools == True and lab == 1:\n",
    "            new_open.append(val[2])\n",
    "        if bools == True and lab == 2:\n",
    "            new_closed.append(val[2])\n",
    "    print(f\"кол-во новых фотографий {len(new_open) + len(new_closed)} из {len(val_dataset)} valid датафрейма\")\n",
    "    [os.system(f\"mv '{file}' ./train/open\") for file in new_open ]\n",
    "    [os.system(f\"mv '{file}' ./train/cloesd\") for file in new_closed ]\n",
    "    t1,t2 = train_load()\n",
    "    v1, v2 = val_load()\n",
    "    return t1, t2, v1, v2\n",
    "\n",
    "def confident_predict_cluster(train_data, train_label, test_data, \n",
    "    test_label, val_data, train_dataset, val_dataset, step=0.05, start=0.02):\n",
    "    label_spread = LabelSpreading(n_jobs = -1, kernel = 'knn')\n",
    "    pca = PCA(n_components = 10, random_state=6)\n",
    "    train_data_pca = pca.fit_transform(train_data)\n",
    "    test_data_pca = pca.transform(test_data)\n",
    "    val_data_pca = pca.transform(val_data)\n",
    "    label_spread.fit(train_data_pca, train_label)\n",
    "    pred_test = label_spread.predict(test_data_pca)\n",
    "    pred_test_prob = label_spread.predict_proba(test_data_pca)\n",
    "    best_threshold(test_label, pred_test_prob[:, 1], step, start)\n",
    "    bool_mas, label = map_val_set(label_spread, val_data_pca)\n",
    "    return load_new_val(bool_mas, label, train_dataset, val_dataset)\n",
    "    "
   ]
  },
  {
   "cell_type": "code",
   "execution_count": 80,
   "id": "LO9T7P1c4Jnw",
   "metadata": {
    "colab": {
     "base_uri": "https://localhost:8080/"
    },
    "id": "LO9T7P1c4Jnw",
    "outputId": "e9842b9d-96b8-48ee-bd51-4a8d6f6cb405"
   },
   "outputs": [
    {
     "name": "stdout",
     "output_type": "stream",
     "text": [
      "качесвто на test 0.7708978328173375\n",
      "порог: 0.005,   кол-во элементов из test: 63, accuracy: 0.98413\n",
      "порог: 0.007,   кол-во элементов из test: 81, accuracy: 0.98765\n",
      "порог: 0.009000000000000001,   кол-во элементов из test: 103, accuracy: 0.97087\n",
      "порог: 0.011,   кол-во элементов из test: 125, accuracy: 0.96\n",
      "порог: 0.013000000000000001,   кол-во элементов из test: 134, accuracy: 0.96269\n",
      "порог: 0.015,   кол-во элементов из test: 144, accuracy: 0.96528\n",
      "порог: 0.017,   кол-во элементов из test: 152, accuracy: 0.96711\n",
      "порог: 0.019,   кол-во элементов из test: 163, accuracy: 0.96933\n",
      "выберете порог 0.019\n",
      "кол-во новых фотографий 132 из 1087 valid датафрейма\n"
     ]
    },
    {
     "name": "stderr",
     "output_type": "stream",
     "text": [
      "/usr/local/lib/python3.7/dist-packages/torch/utils/data/dataloader.py:481: UserWarning: This DataLoader will create 18 worker processes in total. Our suggested max number of worker in current system is 2, which is smaller than what this DataLoader is going to create. Please be aware that excessive worker creation might get DataLoader running slow or even freeze, lower the worker number to avoid potential slowness/freeze if necessary.\n",
      "  cpuset_checked))\n"
     ]
    }
   ],
   "source": [
    "train_dataset2, train_dataloader2, val_dataset2, val_dataloader2 = confident_predict_cluster(\n",
    "train_data, train_label, test_data, test_label, val_set,  train_dataset, val_dataset, step = 0.002, start = 0.005)"
   ]
  },
  {
   "cell_type": "code",
   "execution_count": 82,
   "id": "B2xmv9fP4nJk",
   "metadata": {
    "colab": {
     "base_uri": "https://localhost:8080/"
    },
    "id": "B2xmv9fP4nJk",
    "outputId": "1c3bb08e-9adb-47d7-bcd0-1034ccd2ef43"
   },
   "outputs": [
    {
     "data": {
      "text/plain": [
       "76812"
      ]
     },
     "execution_count": 82,
     "metadata": {},
     "output_type": "execute_result"
    }
   ],
   "source": [
    "train_dataset, train_dataloader, val_dataset, val_dataloader  = \\\n",
    "train_dataset2, train_dataloader2, val_dataset2, val_dataloader2 "
   ]
  },
  {
   "cell_type": "code",
   "execution_count": 83,
   "id": "KgWJYyewimpX",
   "metadata": {
    "colab": {
     "base_uri": "https://localhost:8080/",
     "height": 778
    },
    "id": "KgWJYyewimpX",
    "outputId": "f25958fc-c476-4ac7-9f13-d4c497b8c6d6"
   },
   "outputs": [
    {
     "name": "stdout",
     "output_type": "stream",
     "text": [
      "Epoch 0/10000:\n"
     ]
    },
    {
     "name": "stderr",
     "output_type": "stream",
     "text": [
      "/usr/local/lib/python3.7/dist-packages/torch/utils/data/dataloader.py:481: UserWarning: This DataLoader will create 18 worker processes in total. Our suggested max number of worker in current system is 2, which is smaller than what this DataLoader is going to create. Please be aware that excessive worker creation might get DataLoader running slow or even freeze, lower the worker number to avoid potential slowness/freeze if necessary.\n",
      "  cpuset_checked))\n"
     ]
    },
    {
     "name": "stdout",
     "output_type": "stream",
     "text": [
      "train accuracy of the network 92.9451127428006, Loss 1517.7793837499921\n"
     ]
    },
    {
     "name": "stderr",
     "output_type": "stream",
     "text": [
      "/usr/local/lib/python3.7/dist-packages/torch/utils/data/dataloader.py:481: UserWarning: This DataLoader will create 8 worker processes in total. Our suggested max number of worker in current system is 2, which is smaller than what this DataLoader is going to create. Please be aware that excessive worker creation might get DataLoader running slow or even freeze, lower the worker number to avoid potential slowness/freeze if necessary.\n",
      "  cpuset_checked))\n"
     ]
    },
    {
     "name": "stdout",
     "output_type": "stream",
     "text": [
      "val accuracy of the network 96.38802889576884, Loss 16.497393210635437\n",
      "Epoch 1/10000:\n",
      "train accuracy of the network 93.01931989793262, Loss 933.0085220569745\n",
      "val accuracy of the network 96.80082559339526, Loss 21.752428618999446\n",
      "Epoch 2/10000:\n",
      "train accuracy of the network 93.00890485861584, Loss 898.7259320260491\n",
      "val accuracy of the network 96.80082559339526, Loss 17.980569917688825\n",
      "Epoch 3/10000:\n",
      "train accuracy of the network 93.03754621673697, Loss 883.0773834269494\n",
      "val accuracy of the network 96.59442724458205, Loss 18.42175478026411\n",
      "Epoch 4/10000:\n",
      "train accuracy of the network 93.09482893297923, Loss 880.1434352034703\n",
      "val accuracy of the network 96.59442724458205, Loss 18.65552331874676\n",
      "Epoch 5/10000:\n",
      "train accuracy of the network 93.08050825391865, Loss 878.9847723096609\n",
      "val accuracy of the network 96.59442724458205, Loss 19.115627667657478\n",
      "Epoch 6/10000:\n",
      "train accuracy of the network 93.0674894547727, Loss 882.300742178224\n",
      "val accuracy of the network 96.80082559339526, Loss 20.202919801501782\n",
      "Epoch 7/10000:\n"
     ]
    },
    {
     "ename": "KeyboardInterrupt",
     "evalue": "ignored",
     "output_type": "error",
     "traceback": [
      "\u001b[0;31m---------------------------------------------------------------------------\u001b[0m",
      "\u001b[0;31mKeyboardInterrupt\u001b[0m                         Traceback (most recent call last)",
      "\u001b[0;32m<ipython-input-83-52b29453f137>\u001b[0m in \u001b[0;36m<module>\u001b[0;34m()\u001b[0m\n\u001b[0;32m----> 1\u001b[0;31m \u001b[0mopeneyes\u001b[0m\u001b[0;34m.\u001b[0m\u001b[0mfit\u001b[0m\u001b[0;34m(\u001b[0m\u001b[0mtrain_dataloader\u001b[0m\u001b[0;34m,\u001b[0m \u001b[0mtest_dataloader\u001b[0m\u001b[0;34m)\u001b[0m\u001b[0;34m\u001b[0m\u001b[0;34m\u001b[0m\u001b[0m\n\u001b[0m",
      "\u001b[0;32m<ipython-input-58-f58165ff3d8c>\u001b[0m in \u001b[0;36mfit\u001b[0;34m(self, train_dataloader, val_dataloader)\u001b[0m\n\u001b[1;32m     56\u001b[0m                             \u001b[0mself\u001b[0m\u001b[0;34m.\u001b[0m\u001b[0moptimizer\u001b[0m\u001b[0;34m.\u001b[0m\u001b[0mstep\u001b[0m\u001b[0;34m(\u001b[0m\u001b[0;34m)\u001b[0m\u001b[0;34m\u001b[0m\u001b[0;34m\u001b[0m\u001b[0m\n\u001b[1;32m     57\u001b[0m \u001b[0;34m\u001b[0m\u001b[0m\n\u001b[0;32m---> 58\u001b[0;31m                         \u001b[0mcorrect\u001b[0m \u001b[0;34m+=\u001b[0m \u001b[0;34m(\u001b[0m\u001b[0mpreds_class\u001b[0m \u001b[0;34m==\u001b[0m \u001b[0mlabels\u001b[0m\u001b[0;34m)\u001b[0m\u001b[0;34m.\u001b[0m\u001b[0msum\u001b[0m\u001b[0;34m(\u001b[0m\u001b[0;34m)\u001b[0m\u001b[0;34m.\u001b[0m\u001b[0mitem\u001b[0m\u001b[0;34m(\u001b[0m\u001b[0;34m)\u001b[0m\u001b[0;34m\u001b[0m\u001b[0;34m\u001b[0m\u001b[0m\n\u001b[0m\u001b[1;32m     59\u001b[0m                         \u001b[0mtotal\u001b[0m \u001b[0;34m+=\u001b[0m \u001b[0mlabels\u001b[0m\u001b[0;34m.\u001b[0m\u001b[0msize\u001b[0m\u001b[0;34m(\u001b[0m\u001b[0;36m0\u001b[0m\u001b[0;34m)\u001b[0m\u001b[0;34m\u001b[0m\u001b[0;34m\u001b[0m\u001b[0m\n\u001b[1;32m     60\u001b[0m                         \u001b[0mall_loss\u001b[0m \u001b[0;34m+=\u001b[0m \u001b[0mloss_value\u001b[0m\u001b[0;34m.\u001b[0m\u001b[0mitem\u001b[0m\u001b[0;34m(\u001b[0m\u001b[0;34m)\u001b[0m\u001b[0;34m\u001b[0m\u001b[0;34m\u001b[0m\u001b[0m\n",
      "\u001b[0;31mKeyboardInterrupt\u001b[0m: "
     ]
    }
   ],
   "source": [
    "openeyes.fit(train_dataloader, test_dataloader)"
   ]
  },
  {
   "cell_type": "markdown",
   "id": "e7dfbe9e",
   "metadata": {
    "id": "e7dfbe9e"
   },
   "source": [
    "#### анализ уверенности  модели"
   ]
  },
  {
   "cell_type": "code",
   "execution_count": 23,
   "id": "431f59bf",
   "metadata": {
    "id": "431f59bf"
   },
   "outputs": [],
   "source": [
    "def confident_predict(model , val_dataset, val_dataloader, train_dataset, \n",
    "    train_dataloader, test_dataloader, step=0.05, start=0.02):\n",
    "    y_pred = model.predict(test_dataloader)\n",
    "    y_true = np.array([i[1] for i in test_dataset])\n",
    "    best_threshold(y_true, y_pred, step, start)\n",
    "    bool_mas, label = map_val_set(model, val_dataset, val_dataloader)\n",
    "    return load_new_val(bool_mas, label, train_dataset, val_dataset)"
   ]
  },
  {
   "cell_type": "code",
   "execution_count": 24,
   "id": "690850ef",
   "metadata": {
    "colab": {
     "base_uri": "https://localhost:8080/"
    },
    "id": "690850ef",
    "outputId": "ac4990ba-9e62-4442-d616-a9878b2f689b"
   },
   "outputs": [
    {
     "name": "stderr",
     "output_type": "stream",
     "text": [
      "\r",
      "  0%|          | 0/122 [00:00<?, ?it/s]/usr/local/lib/python3.7/dist-packages/torch/utils/data/dataloader.py:481: UserWarning: This DataLoader will create 8 worker processes in total. Our suggested max number of worker in current system is 2, which is smaller than what this DataLoader is going to create. Please be aware that excessive worker creation might get DataLoader running slow or even freeze, lower the worker number to avoid potential slowness/freeze if necessary.\n",
      "  cpuset_checked))\n",
      "100%|██████████| 122/122 [00:02<00:00, 56.80it/s]\n"
     ]
    },
    {
     "name": "stdout",
     "output_type": "stream",
     "text": [
      "качесвто на test 0.9680082559339526\n",
      "порог: 0.002,   кол-во элементов из test: 715, accuracy: 1.0\n",
      "порог: 0.009000000000000001,   кол-во элементов из test: 842, accuracy: 0.99169\n",
      "порог: 0.016,   кол-во элементов из test: 868, accuracy: 0.99078\n",
      "порог: 0.023000000000000007,   кол-во элементов из test: 880, accuracy: 0.98977\n",
      "порог: 0.030000000000000006,   кол-во элементов из test: 887, accuracy: 0.98873\n",
      "порог: 0.037000000000000005,   кол-во элементов из test: 895, accuracy: 0.98883\n",
      "порог: 0.04400000000000001,   кол-во элементов из test: 905, accuracy: 0.98674\n",
      "порог: 0.05100000000000001,   кол-во элементов из test: 907, accuracy: 0.98677\n",
      "порог: 0.05800000000000001,   кол-во элементов из test: 912, accuracy: 0.98684\n",
      "порог: 0.06500000000000002,   кол-во элементов из test: 917, accuracy: 0.98473\n",
      "выберете порог 0.002\n"
     ]
    },
    {
     "name": "stderr",
     "output_type": "stream",
     "text": [
      "100%|██████████| 137/137 [00:01<00:00, 87.06it/s]\n"
     ]
    },
    {
     "name": "stdout",
     "output_type": "stream",
     "text": [
      "кол-во новых фотографий 450 из 1096 valid датафрейма\n"
     ]
    },
    {
     "name": "stderr",
     "output_type": "stream",
     "text": [
      "/usr/local/lib/python3.7/dist-packages/torch/utils/data/dataloader.py:481: UserWarning: This DataLoader will create 18 worker processes in total. Our suggested max number of worker in current system is 2, which is smaller than what this DataLoader is going to create. Please be aware that excessive worker creation might get DataLoader running slow or even freeze, lower the worker number to avoid potential slowness/freeze if necessary.\n",
      "  cpuset_checked))\n"
     ]
    }
   ],
   "source": [
    "train_dataset2, train_dataloader2, val_dataset2, val_dataloader2  = confident_predict(\n",
    "openeyes, val_dataset,val_dataloader, train_dataset, train_dataloader, test_dataloader, \n",
    "step=0.007, start=0.002)"
   ]
  },
  {
   "cell_type": "code",
   "execution_count": null,
   "id": "42d23d79",
   "metadata": {},
   "outputs": [],
   "source": [
    "train_dataset, train_dataloader, val_dataset, val_dataloader  = \\\n",
    "train_dataset2, train_dataloader2, val_dataset2, val_dataloader2 "
   ]
  },
  {
   "cell_type": "code",
   "execution_count": 26,
   "id": "QtWa1l36h1kj",
   "metadata": {
    "colab": {
     "base_uri": "https://localhost:8080/",
     "height": 563
    },
    "id": "QtWa1l36h1kj",
    "outputId": "aa736531-64ea-4da6-e398-f6b7e5bca9a9"
   },
   "outputs": [
    {
     "name": "stdout",
     "output_type": "stream",
     "text": [
      "Epoch 0/10000:\n"
     ]
    },
    {
     "name": "stderr",
     "output_type": "stream",
     "text": [
      "/usr/local/lib/python3.7/dist-packages/torch/utils/data/dataloader.py:481: UserWarning: This DataLoader will create 18 worker processes in total. Our suggested max number of worker in current system is 2, which is smaller than what this DataLoader is going to create. Please be aware that excessive worker creation might get DataLoader running slow or even freeze, lower the worker number to avoid potential slowness/freeze if necessary.\n",
      "  cpuset_checked))\n"
     ]
    },
    {
     "name": "stdout",
     "output_type": "stream",
     "text": [
      "train accuracy of the network 98.42483993427389, Loss 206.2033022416581\n"
     ]
    },
    {
     "name": "stderr",
     "output_type": "stream",
     "text": [
      "/usr/local/lib/python3.7/dist-packages/torch/utils/data/dataloader.py:481: UserWarning: This DataLoader will create 8 worker processes in total. Our suggested max number of worker in current system is 2, which is smaller than what this DataLoader is going to create. Please be aware that excessive worker creation might get DataLoader running slow or even freeze, lower the worker number to avoid potential slowness/freeze if necessary.\n",
      "  cpuset_checked))\n"
     ]
    },
    {
     "name": "stdout",
     "output_type": "stream",
     "text": [
      "val accuracy of the network 96.90402476780186, Loss 12.3391136338887\n",
      "Epoch 1/10000:\n",
      "train accuracy of the network 98.52569550682759, Loss 192.67844018297183\n",
      "val accuracy of the network 97.00722394220847, Loss 13.269321901928379\n",
      "Epoch 2/10000:\n",
      "train accuracy of the network 98.63674995750468, Loss 184.0296293843894\n",
      "val accuracy of the network 96.90402476780186, Loss 13.280489092208654\n",
      "Epoch 3/10000:\n"
     ]
    },
    {
     "ename": "KeyboardInterrupt",
     "evalue": "ignored",
     "output_type": "error",
     "traceback": [
      "\u001b[0;31m---------------------------------------------------------------------------\u001b[0m",
      "\u001b[0;31mKeyboardInterrupt\u001b[0m                         Traceback (most recent call last)",
      "\u001b[0;32m<ipython-input-26-52b29453f137>\u001b[0m in \u001b[0;36m<module>\u001b[0;34m()\u001b[0m\n\u001b[0;32m----> 1\u001b[0;31m \u001b[0mopeneyes\u001b[0m\u001b[0;34m.\u001b[0m\u001b[0mfit\u001b[0m\u001b[0;34m(\u001b[0m\u001b[0mtrain_dataloader\u001b[0m\u001b[0;34m,\u001b[0m \u001b[0mtest_dataloader\u001b[0m\u001b[0;34m)\u001b[0m\u001b[0;34m\u001b[0m\u001b[0;34m\u001b[0m\u001b[0m\n\u001b[0m",
      "\u001b[0;32m<ipython-input-15-5948ea4a7be6>\u001b[0m in \u001b[0;36mfit\u001b[0;34m(self, train_dataloader, val_dataloader)\u001b[0m\n\u001b[1;32m     56\u001b[0m                             \u001b[0mself\u001b[0m\u001b[0;34m.\u001b[0m\u001b[0moptimizer\u001b[0m\u001b[0;34m.\u001b[0m\u001b[0mstep\u001b[0m\u001b[0;34m(\u001b[0m\u001b[0;34m)\u001b[0m\u001b[0;34m\u001b[0m\u001b[0;34m\u001b[0m\u001b[0m\n\u001b[1;32m     57\u001b[0m \u001b[0;34m\u001b[0m\u001b[0m\n\u001b[0;32m---> 58\u001b[0;31m                         \u001b[0mcorrect\u001b[0m \u001b[0;34m+=\u001b[0m \u001b[0;34m(\u001b[0m\u001b[0mpreds_class\u001b[0m \u001b[0;34m==\u001b[0m \u001b[0mlabels\u001b[0m\u001b[0;34m)\u001b[0m\u001b[0;34m.\u001b[0m\u001b[0msum\u001b[0m\u001b[0;34m(\u001b[0m\u001b[0;34m)\u001b[0m\u001b[0;34m.\u001b[0m\u001b[0mitem\u001b[0m\u001b[0;34m(\u001b[0m\u001b[0;34m)\u001b[0m\u001b[0;34m\u001b[0m\u001b[0;34m\u001b[0m\u001b[0m\n\u001b[0m\u001b[1;32m     59\u001b[0m                         \u001b[0mtotal\u001b[0m \u001b[0;34m+=\u001b[0m \u001b[0mlabels\u001b[0m\u001b[0;34m.\u001b[0m\u001b[0msize\u001b[0m\u001b[0;34m(\u001b[0m\u001b[0;36m0\u001b[0m\u001b[0;34m)\u001b[0m\u001b[0;34m\u001b[0m\u001b[0;34m\u001b[0m\u001b[0m\n\u001b[1;32m     60\u001b[0m                         \u001b[0mall_loss\u001b[0m \u001b[0;34m+=\u001b[0m \u001b[0mloss_value\u001b[0m\u001b[0;34m.\u001b[0m\u001b[0mitem\u001b[0m\u001b[0;34m(\u001b[0m\u001b[0;34m)\u001b[0m\u001b[0;34m\u001b[0m\u001b[0;34m\u001b[0m\u001b[0m\n",
      "\u001b[0;31mKeyboardInterrupt\u001b[0m: "
     ]
    }
   ],
   "source": [
    "openeyes.fit(train_dataloader, test_dataloader)"
   ]
  },
  {
   "cell_type": "markdown",
   "id": "IVoM9LSVbBB5",
   "metadata": {
    "id": "IVoM9LSVbBB5"
   },
   "source": [
    "## Итоги"
   ]
  },
  {
   "cell_type": "code",
   "execution_count": 27,
   "id": "T20h7T-HbFbJ",
   "metadata": {
    "colab": {
     "base_uri": "https://localhost:8080/"
    },
    "id": "T20h7T-HbFbJ",
    "outputId": "3d2eab5d-9243-4987-e24c-46df18fbb564"
   },
   "outputs": [
    {
     "name": "stderr",
     "output_type": "stream",
     "text": [
      "\r",
      "  0%|          | 0/122 [00:00<?, ?it/s]/usr/local/lib/python3.7/dist-packages/torch/utils/data/dataloader.py:481: UserWarning: This DataLoader will create 8 worker processes in total. Our suggested max number of worker in current system is 2, which is smaller than what this DataLoader is going to create. Please be aware that excessive worker creation might get DataLoader running slow or even freeze, lower the worker number to avoid potential slowness/freeze if necessary.\n",
      "  cpuset_checked))\n",
      "100%|██████████| 122/122 [00:02<00:00, 57.60it/s]\n"
     ]
    }
   ],
   "source": [
    "my_pred = openeyes.predict(test_dataloader)"
   ]
  },
  {
   "cell_type": "code",
   "execution_count": 30,
   "id": "71QUHUYlbhev",
   "metadata": {
    "colab": {
     "base_uri": "https://localhost:8080/"
    },
    "id": "71QUHUYlbhev",
    "outputId": "d911f9ee-508f-4ec6-9fb5-113f7c5b5c0b"
   },
   "outputs": [
    {
     "name": "stdout",
     "output_type": "stream",
     "text": [
      "EER 0.030991735537190084\n",
      "roc_auc_score 0.9731554059810854\n"
     ]
    }
   ],
   "source": [
    "fpr, tpr, threshold = roc_curve(test_label, my_pred, pos_label=1)\n",
    "fnr = 1 - tpr\n",
    "eer_threshold = threshold[np.nanargmin(np.absolute((fnr - fpr)))]\n",
    "EER = fpr[np.nanargmin(np.absolute((fnr - fpr)))]\n",
    "print('EER',  EER)\n",
    "print('roc_auc_score', roc_auc_score(test_label, [1 if i >= 0.5 else 0 for i in my_pred]))"
   ]
  },
  {
   "cell_type": "code",
   "execution_count": 29,
   "id": "0mutkMOFqWkh",
   "metadata": {
    "colab": {
     "base_uri": "https://localhost:8080/"
    },
    "id": "0mutkMOFqWkh",
    "outputId": "7701c427-fd7a-4844-a2f0-deab9bb61249"
   },
   "outputs": [
    {
     "name": "stdout",
     "output_type": "stream",
     "text": [
      "сколько элементов остались не размеченными 646\n"
     ]
    }
   ],
   "source": [
    "print(\"сколько элементов остались не размеченными\", len(val_dataset))"
   ]
  },
  {
   "cell_type": "code",
   "execution_count": null,
   "id": "HjAhzHnC1JDO",
   "metadata": {
    "id": "HjAhzHnC1JDO"
   },
   "outputs": [],
   "source": []
  }
 ],
 "metadata": {
  "colab": {
   "collapsed_sections": [],
   "name": "OpenEyes (3).ipynb",
   "provenance": []
  },
  "kernelspec": {
   "display_name": "Python 3",
   "language": "python",
   "name": "python3"
  },
  "language_info": {
   "codemirror_mode": {
    "name": "ipython",
    "version": 3
   },
   "file_extension": ".py",
   "mimetype": "text/x-python",
   "name": "python",
   "nbconvert_exporter": "python",
   "pygments_lexer": "ipython3",
   "version": "3.8.8"
  }
 },
 "nbformat": 4,
 "nbformat_minor": 5
}
